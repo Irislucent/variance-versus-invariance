{
 "cells": [
  {
   "cell_type": "code",
   "execution_count": 11,
   "metadata": {},
   "outputs": [
    {
     "name": "stdout",
     "output_type": "stream",
     "text": [
      "24604\n",
      "24604\n"
     ]
    },
    {
     "name": "stderr",
     "output_type": "stream",
     "text": [
      "20it [00:02,  8.11it/s]"
     ]
    },
    {
     "name": "stdout",
     "output_type": "stream",
     "text": [
      "{9.0: 5, 8.0: 2, 7.0: 4, 6.0: 8, 5.0: 4, 4.0: 6, 3.0: 2, 2.0: 7, 1.0: 9, 0: 4}\n",
      "55\n",
      "37\n"
     ]
    },
    {
     "name": "stderr",
     "output_type": "stream",
     "text": [
      "\n"
     ]
    }
   ],
   "source": [
    "import os\n",
    "import numpy as np\n",
    "import json\n",
    "from glob import glob\n",
    "from PIL import Image\n",
    "from matplotlib import pyplot as plt\n",
    "from torchvision import transforms\n",
    "from tqdm import tqdm\n",
    "\n",
    "SVHN_ANN = []\n",
    "SVHN_DIR = \"../../../data/SVHNPlural/val\"\n",
    "SVHN_ANN += glob(SVHN_DIR + \"/*.json\")\n",
    "\n",
    "\n",
    "with open(SVHN_ANN[0]) as f:\n",
    "    ann = json.load(f)\n",
    "\n",
    "# shuffle the annotations\n",
    "\n",
    "print(len(ann))\n",
    "np.random.shuffle(ann)\n",
    "\n",
    "ann_ge2 = [a for a in ann if len(a[\"boxes\"]) >= 2]\n",
    "print(len(ann_ge2))\n",
    "\n",
    "# ann_g2 = [a for a in ann if len(a[\"boxes\"]) > 2]\n",
    "# print(len(ann_g2))\n",
    "\n",
    "label_bag = {}\n",
    "\n",
    "for i, annotation in tqdm(enumerate(ann_ge2[:20])):\n",
    "    file_name = annotation[\"name\"]\n",
    "    file_path = os.path.join(SVHN_DIR, file_name)\n",
    "    img = Image.open(file_path)\n",
    "    boxes = []\n",
    "    hs = []\n",
    "    ws = []\n",
    "    # show image\n",
    "    plt.imshow(img)\n",
    "    plt.axis(\"off\")\n",
    "    # show bounding box\n",
    "    for box in annotation[\"boxes\"]:\n",
    "        h, w, t, l, label = box[\"height\"], box[\"width\"], box[\"top\"], box[\"left\"], box[\"label\"]\n",
    "        hs.append(int(h))\n",
    "        ws.append(int(w))\n",
    "        plt.plot([l, l+w, l+w, l, l], [t, t, t+h, t+h, t], color='r', linewidth=2)\n",
    "        # crop image to this bounding box\n",
    "        crop = img.crop((l, t, l+w, t+h))\n",
    "        boxes.append(crop)\n",
    "        if label == 10:\n",
    "            label = 0\n",
    "        if label not in label_bag:\n",
    "            label_bag[label] = 0\n",
    "        label_bag[label] += 1\n",
    "    plt.savefig(\n",
    "        os.path.join(\"/home/irislucent/study-of-changes/study-of-changes/dataset/svhn_cropped\", f\"svhn_example{i}.png\"),\n",
    "        # dpi=200,\n",
    "        bbox_inches=\"tight\",\n",
    "        pad_inches=0,\n",
    "    )\n",
    "    plt.close()\n",
    "    # break\n",
    "\n",
    "label_bag = {k: v for k, v in sorted(label_bag.items(), key=lambda item: item[0], reverse=True)}\n",
    "print(label_bag)\n",
    "\n",
    "print(max(hs))\n",
    "print(max(ws))\n",
    "    # resizer = transforms.Resize((48, 32))\n",
    "    # for i, box in enumerate(boxes):\n",
    "    #     box = resizer(box)\n",
    "    #     plt.subplot(1, len(boxes), i+1)\n",
    "    #     plt.imshow(box)\n",
    "\n",
    "    # break\n"
   ]
  },
  {
   "cell_type": "code",
   "execution_count": null,
   "metadata": {},
   "outputs": [],
   "source": []
  }
 ],
 "metadata": {
  "kernelspec": {
   "display_name": "base",
   "language": "python",
   "name": "python3"
  },
  "language_info": {
   "codemirror_mode": {
    "name": "ipython",
    "version": 3
   },
   "file_extension": ".py",
   "mimetype": "text/x-python",
   "name": "python",
   "nbconvert_exporter": "python",
   "pygments_lexer": "ipython3",
   "version": "3.10.13"
  }
 },
 "nbformat": 4,
 "nbformat_minor": 2
}
